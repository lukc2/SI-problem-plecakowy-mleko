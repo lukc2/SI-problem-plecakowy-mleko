{
 "cells": [
  {
   "cell_type": "code",
   "execution_count": 38,
   "metadata": {},
   "outputs": [
    {
     "name": "stdout",
     "output_type": "stream",
     "text": [
      "Zmarnowane miejsce! 1.7\n",
      "Zmarnowane miejsce! 1.42\n",
      "Zmarnowane miejsce! 78.85\n",
      "Zmarnowane miejsce! 74.47\n",
      "Zmarnowane miejsce! 20.75\n",
      "Zmarnowane miejsce! 16.91\n",
      "Zmarnowane miejsce! 21.41\n",
      "Zmarnowane miejsce! 60.87\n",
      "Zmarnowane miejsce! 53.25\n",
      "Zmarnowane miejsce! 29.51\n",
      "Zmarnowane miejsce! 68.08\n",
      "Zmarnowane miejsce! 56.85\n",
      "Zmarnowane miejsce! 3.12\n",
      "Zmarnowane miejsce! 1.43\n",
      "Zmarnowane miejsce! 4.67\n",
      "Zmarnowane miejsce! 23.67\n",
      "Zmarnowane miejsce! 31.46\n",
      "Zmarnowane miejsce! 17.97\n",
      "Zmarnowane miejsce! 54.94\n",
      "Zmarnowane miejsce! 63.15\n",
      "PAMIEC HM\n",
      "[10211, 9578, 3914, 26, 15784, 12252, 11830, 335, 18285, 14635, 938, 17908, 4638, 7436, 2607, 6879, 13810, 14579, 1654]\n",
      "[3899, 4895, 5353, 660, 5257, 12865, 15196, 3953, 2351, 16750, 9279, 16409, 16287, 318, 8272, 12776, 1218, 4276, 14207]\n",
      "[7109, 18767, 11539, 3796, 11500, 905, 10588, 14978, 16158, 4902, 19691, 8607, 8160, 19092, 5015]\n",
      "[15050, 12302, 8459, 17625, 6855, 11041, 6954, 10485, 1723, 2258, 3663, 3703, 610, 15462]\n",
      "[11225, 8781, 6870, 334, 6212, 3070, 11854, 14189, 3211, 10422, 1458, 5268]\n",
      "[14308, 5501, 6296, 4322, 7293, 16684, 14592, 18652, 4114, 7661, 9537, 9423]\n",
      "[17624, 8719, 5899, 14514, 7685, 11175, 19757, 1493, 12448, 10793]\n",
      "[16906, 1667, 12898, 3844, 15921, 14204, 8086, 13611, 15312, 6864, 12108, 4915, 19594, 13916, 5812, 15964, 7549, 17875, 9037, 14364, 7138, 19688, 779, 13632, 18769, 10986]\n",
      "[15324, 1549, 6112, 19831, 1961, 14349, 5326, 11407, 13957, 6506, 13859, 266, 18722, 6270, 8904, 15957, 15320, 13771, 9081, 13567, 10574]\n",
      "[12666, 3596, 5122, 8960]\n",
      "[4313, 1492, 19034, 1855, 9691, 16474, 14675, 7452, 6677, 15390, 2677, 3252, 16091, 8343, 17831, 9471, 2849, 12582, 15519, 2243, 14966, 7807, 17265, 16659, 17628, 13044, 8161, 19814, 8171, 1965, 19022, 1749, 10909]\n",
      "[16096, 2609, 8384, 4777, 6830, 8156, 5924, 13572, 8731, 5187, 6495, 19532, 16059, 10129, 2318, 13529, 6304, 9123, 7184, 14454, 10596, 18162, 6460, 10506, 3086, 9111, 1306]\n",
      "[1319, 13469, 1903, 706, 6599, 11888, 14618, 13835, 1455, 5743, 4608, 15248, 8180, 386, 3752, 726, 1667, 19385, 17457, 5853, 4077]\n",
      "[10597, 4749, 9812, 2537, 14641, 8870, 13668, 10414, 6284, 19253, 8899, 120, 15107, 8657, 19799, 6171, 18901, 17834, 5981, 6595]\n",
      "[2272, 12423, 5565, 857, 18091, 16902, 19234, 16432, 15450, 16618, 6778, 17695, 4092, 6976, 2811, 9169]\n",
      "[17561, 10957, 1282, 18521, 7043, 12100, 16145, 10383]\n",
      "[1668, 13578, 19635, 4517, 13909, 3893]\n",
      "[9725, 11104, 16239, 16180, 10578, 14060, 824, 17678, 15774, 15451, 7466, 9083, 12608, 17209, 10809, 3372, 50, 1729, 17319, 7434, 15081, 12417, 15110, 5910, 3706, 16396, 157, 10807, 10168, 11292, 16706, 3651, 17795, 16584, 14086]\n",
      "[4698, 7127, 7274, 13435, 3979, 16829, 17238, 14627, 9986, 16472, 5597, 13594, 7527, 15634, 12700, 15203, 16140, 1929, 1851, 4184, 11045, 14021, 13923, 12876, 7705]\n",
      "[1240, 308, 11061, 10485, 671, 13293, 5950, 12841, 7338, 2973, 2490, 12853, 14513, 17815, 12953]\n",
      "KOSZTY\n",
      "[985.45, 829.61, 609.06, 332.63, 217.55, 220.12, 993.25, 689.69, 1213.71, 955.8, 443.32, 984.74, 448.21, 444.24, 737.09, 553.56, 861.28, 1933.54, 283.01, 375.6]\n"
     ]
    }
   ],
   "source": [
    "import json\n",
    "import random\n",
    "\n",
    "with open('mleko.json') as f:\n",
    "    data = json.load(f)\n",
    "    \n",
    "\n",
    "HMS = 20\n",
    "\n",
    "\n",
    "HM = []\n",
    "koszty = []\n",
    "\n",
    "def get_item(szukany):\n",
    "    for item  in data: \n",
    "        if item['id'] == szukany:\n",
    "            return item\n",
    "\n",
    "for i in range(0, HMS):\n",
    "    pojemnosc = 200\n",
    "    przepelniony = False\n",
    "    koszt = 0\n",
    "    wektor = []\n",
    "    while(not przepelniony):\n",
    "        randId = random.randint(0, 19999)\n",
    "        while(randId in wektor):\n",
    "            randId = random.randint(0, 19999)\n",
    "            \n",
    "        item = get_item(randId)\n",
    "        \n",
    "        if(pojemnosc - item[\"volume\"] < 0):\n",
    "            przepelniony = True\n",
    "        else:\n",
    "            pojemnosc -= item[\"volume\"]\n",
    "            wektor.append(randId)\n",
    "            koszt += item[\"price\"]\n",
    "            \n",
    "    print(\"Zmarnowane miejsce!\", round(pojemnosc,2))        \n",
    "    HM.append(wektor)\n",
    "    koszty.append(round(koszt,2))\n",
    "    \n",
    "    \n",
    "print(\"PAMIEC HM\")\n",
    "\n",
    "for i in HM:\n",
    "    print(i)\n",
    "print(\"KOSZTY\")\n",
    "print(koszty)"
   ]
  },
  {
   "cell_type": "code",
   "execution_count": 37,
   "metadata": {},
   "outputs": [
    {
     "name": "stdout",
     "output_type": "stream",
     "text": [
      "{'name': 'szlanka mleka czekoladowego krowiego 1% z wielkiej hodowli bardzo dobrej jakosci', 'volume': 0.11, 'price': 1.3, 'id': 5}\n"
     ]
    }
   ],
   "source": [
    "import json\n",
    "import random\n",
    "\n",
    "with open('mleko.json') as f:\n",
    "    data = json.load(f)\n",
    "    \n",
    "\n",
    "HMS = 20\n",
    "\n",
    "HM = []\n",
    "koszty = []\n",
    "\n",
    "\n",
    "        \n",
    "print(get_out(5))\n",
    "            "
   ]
  },
  {
   "cell_type": "code",
   "execution_count": null,
   "metadata": {},
   "outputs": [],
   "source": []
  }
 ],
 "metadata": {
  "kernelspec": {
   "display_name": "Python 3",
   "language": "python",
   "name": "python3"
  },
  "language_info": {
   "codemirror_mode": {
    "name": "ipython",
    "version": 3
   },
   "file_extension": ".py",
   "mimetype": "text/x-python",
   "name": "python",
   "nbconvert_exporter": "python",
   "pygments_lexer": "ipython3",
   "version": "3.7.3"
  }
 },
 "nbformat": 4,
 "nbformat_minor": 2
}
